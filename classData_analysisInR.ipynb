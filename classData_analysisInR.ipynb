{
 "cells": [
  {
   "cell_type": "code",
   "execution_count": 3,
   "metadata": {
    "collapsed": false
   },
   "outputs": [],
   "source": [
    "#------Read csv file-------\n",
    "\n",
    "classData <- read.csv(\"C:/Users/Yamini/Documents/classData.csv\")"
   ]
  },
  {
   "cell_type": "code",
   "execution_count": 4,
   "metadata": {
    "collapsed": false
   },
   "outputs": [
    {
     "name": "stdout",
     "output_type": "stream",
     "text": [
      "   No  GPA Years.of.work.experience Latest.salary..per.year. Highest.GPA\n",
      "1   1 3.50                      2.5                    45000        3.50\n",
      "2   3 3.80                      1.0                    65000        3.60\n",
      "3   4 3.80                      2.0                    85000        4.00\n",
      "4   5 3.41                      1.5                    10000        3.41\n",
      "5   6 3.33                      5.0                    70000        3.67\n",
      "6   7 3.52                      2.5                    27000        3.58\n",
      "7   8 3.50                      2.0                    40000        3.70\n",
      "8   9 3.50                      5.0                    75000        3.53\n",
      "9  10 3.60                      2.5                    65000        3.90\n",
      "10 11 3.20                      4.0                    62000        3.80\n",
      "11 12 3.50                      2.0                    60000        3.50\n",
      "12 13 3.67                      1.8                    60000        4.00\n",
      "13 14 3.50                      2.0                    60000        3.70\n",
      "14 15 3.47                      2.5                    70000        3.64\n",
      "15 16 3.06                      1.3                    40000        3.64\n",
      "16 17 3.27                      2.0                    60000        4.00\n",
      "17 18 3.53                      4.0                    50000        4.00\n",
      "18 19 4.00                      4.0                    50000        4.00\n",
      "19 20 3.40                      1.0                    30000        3.60\n",
      "20 21 3.54                      1.0                    40000        4.00\n",
      "21 22 3.50                      2.0                    75000        4.00\n",
      "22 23 3.50                      4.0                    50000        3.80\n",
      "23 24 3.40                      3.0                    50000        3.80\n",
      "24 25 3.93                      5.0                    50000        3.80\n",
      "25 26 3.30                      4.0                    65000        4.00\n",
      "26 27 3.90                      6.0                    90000        4.00\n",
      "27 28 3.17                      1.0                    50000        3.30\n",
      "28 29 3.48                      3.5                    60000        4.00\n",
      "29 30 3.93                      4.0                    43000        4.00\n",
      "30 31 3.43                      4.0                    60000        3.50\n",
      "31 32 3.33                      5.0                     5000        3.66\n",
      "32 33 3.60                      1.5                    60000        3.70\n",
      "33 34 3.80                      3.0                    65000        3.80\n",
      "34 35 3.50                      3.0                    65000        4.00\n",
      "35 36 3.39                      2.0                    60000        3.80\n",
      "   Lowest.GPA Coops.Internships..YN. Number.of.contacts.on.Linkedin\n",
      "1        3.50                      N                            250\n",
      "2        3.00                      Y                            400\n",
      "3        3.60                      Y                            500\n",
      "4        3.33                      N                            365\n",
      "5        3.00                      Y                            400\n",
      "6        3.52                      N                            230\n",
      "7        3.30                      N                            250\n",
      "8        3.30                      Y                            260\n",
      "9        3.10                      Y                            250\n",
      "10       3.00                      N                            525\n",
      "11       3.50                      N                            400\n",
      "12       3.00                      N                            920\n",
      "13       3.30                      y                            300\n",
      "14       3.37                      Y                            310\n",
      "15       2.67                      Y                            550\n",
      "16       3.00                      Y                            350\n",
      "17       3.30                      N                            600\n",
      "18       4.00                      Y                            500\n",
      "19       3.10                      N                            500\n",
      "20       3.42                      Y                            650\n",
      "21       3.00                      Y                            515\n",
      "22       3.20                      Y                            350\n",
      "23       3.20                      Y                            301\n",
      "24       3.30                      Y                            320\n",
      "25       3.65                      Y                            700\n",
      "26       3.80                      Y                            809\n",
      "27       3.00                      N                            258\n",
      "28       3.33                      Y                            350\n",
      "29       3.28                      Y                            900\n",
      "30       3.30                      Y                            220\n",
      "31       3.00                      Y                            183\n",
      "32       3.40                      Y                            340\n",
      "33       3.50                      Y                            800\n",
      "34       3.60                      Y                            400\n",
      "35       3.20                      Y                            500\n",
      "   Expected.Salary.after.graduation\n",
      "1                             90000\n",
      "2                            100000\n",
      "3                             90000\n",
      "4                            100000\n",
      "5                            100000\n",
      "6                             85000\n",
      "7                             90000\n",
      "8                            100000\n",
      "9                            110000\n",
      "10                           105000\n",
      "11                            85000\n",
      "12                           140000\n",
      "13                            90000\n",
      "14                            95000\n",
      "15                           120000\n",
      "16                           100000\n",
      "17                            88000\n",
      "18                           130000\n",
      "19                            80000\n",
      "20                            95000\n",
      "21                            80000\n",
      "22                           110000\n",
      "23                            90000\n",
      "24                           100000\n",
      "25                           100000\n",
      "26                           120000\n",
      "27                           100000\n",
      "28                           100000\n",
      "29                           100000\n",
      "30                           110000\n",
      "31                           100000\n",
      "32                           100000\n",
      "33                            80000\n",
      "34                            80000\n",
      "35                            90000\n"
     ]
    }
   ],
   "source": [
    "print(classData)"
   ]
  },
  {
   "cell_type": "code",
   "execution_count": 16,
   "metadata": {
    "collapsed": false
   },
   "outputs": [
    {
     "data": {
      "text/html": [
       "'Min GPA: 3.06'"
      ],
      "text/latex": [
       "'Min GPA: 3.06'"
      ],
      "text/markdown": [
       "'Min GPA: 3.06'"
      ],
      "text/plain": [
       "[1] \"Min GPA: 3.06\""
      ]
     },
     "metadata": {},
     "output_type": "display_data"
    },
    {
     "data": {
      "text/html": [
       "'Max GPA: 4'"
      ],
      "text/latex": [
       "'Max GPA: 4'"
      ],
      "text/markdown": [
       "'Max GPA: 4'"
      ],
      "text/plain": [
       "[1] \"Max GPA: 4\""
      ]
     },
     "metadata": {},
     "output_type": "display_data"
    },
    {
     "data": {
      "text/html": [
       "'Avg GPA: 3.52171428571429'"
      ],
      "text/latex": [
       "'Avg GPA: 3.52171428571429'"
      ],
      "text/markdown": [
       "'Avg GPA: 3.52171428571429'"
      ],
      "text/plain": [
       "[1] \"Avg GPA: 3.52171428571429\""
      ]
     },
     "metadata": {},
     "output_type": "display_data"
    },
    {
     "data": {
      "text/html": [
       "'Median GPA: 3.5'"
      ],
      "text/latex": [
       "'Median GPA: 3.5'"
      ],
      "text/markdown": [
       "'Median GPA: 3.5'"
      ],
      "text/plain": [
       "[1] \"Median GPA: 3.5\""
      ]
     },
     "metadata": {},
     "output_type": "display_data"
    },
    {
     "data": {
      "text/html": [
       "'Min Years.of.work.experience: 1'"
      ],
      "text/latex": [
       "'Min Years.of.work.experience: 1'"
      ],
      "text/markdown": [
       "'Min Years.of.work.experience: 1'"
      ],
      "text/plain": [
       "[1] \"Min Years.of.work.experience: 1\""
      ]
     },
     "metadata": {},
     "output_type": "display_data"
    },
    {
     "data": {
      "text/html": [
       "'Max Years.of.work.experience: 6'"
      ],
      "text/latex": [
       "'Max Years.of.work.experience: 6'"
      ],
      "text/markdown": [
       "'Max Years.of.work.experience: 6'"
      ],
      "text/plain": [
       "[1] \"Max Years.of.work.experience: 6\""
      ]
     },
     "metadata": {},
     "output_type": "display_data"
    },
    {
     "data": {
      "text/html": [
       "'Avg Years.of.work.experience: 2.87428571428571'"
      ],
      "text/latex": [
       "'Avg Years.of.work.experience: 2.87428571428571'"
      ],
      "text/markdown": [
       "'Avg Years.of.work.experience: 2.87428571428571'"
      ],
      "text/plain": [
       "[1] \"Avg Years.of.work.experience: 2.87428571428571\""
      ]
     },
     "metadata": {},
     "output_type": "display_data"
    },
    {
     "data": {
      "text/html": [
       "'Median Years.of.work.experience: 2.5'"
      ],
      "text/latex": [
       "'Median Years.of.work.experience: 2.5'"
      ],
      "text/markdown": [
       "'Median Years.of.work.experience: 2.5'"
      ],
      "text/plain": [
       "[1] \"Median Years.of.work.experience: 2.5\""
      ]
     },
     "metadata": {},
     "output_type": "display_data"
    }
   ],
   "source": [
    "#----1.Min Max, Avg, Median GPA and YearsOfworkExperience---\n",
    "\n",
    "minGPA <- min(classData$GPA)\n",
    "paste(\"Min GPA:\",minGPA)\n",
    "\n",
    "maxGPA <- max(classData$GPA)\n",
    "paste(\"Max GPA:\",maxGPA)\n",
    "\n",
    "avgGPA <- mean(classData$GPA)\n",
    "paste(\"Avg GPA:\",avgGPA)\n",
    "\n",
    "medianGPA <- median(classData$GPA)\n",
    "paste(\"Median GPA:\",medianGPA)\n",
    "\n",
    "minyearsofWE <- min(classData$Years.of.work.experience)\n",
    "paste(\"Min Years.of.work.experience:\",minyearsofWE)\n",
    "\n",
    "maxyearsofWE <- max(classData$Years.of.work.experience)\n",
    "paste(\"Max Years.of.work.experience:\",maxyearsofWE)\n",
    "\n",
    "meanyearsofWE <- mean(classData$Years.of.work.experience)\n",
    "paste(\"Avg Years.of.work.experience:\",meanyearsofWE)\n",
    "\n",
    "medianyearsofWE <- median(classData$Years.of.work.experience)\n",
    "paste(\"Median Years.of.work.experience:\",medianyearsofWE)\n"
   ]
  },
  {
   "cell_type": "code",
   "execution_count": 17,
   "metadata": {
    "collapsed": false
   },
   "outputs": [
    {
     "data": {
      "text/html": [
       "'Mode of salary: 100000'"
      ],
      "text/latex": [
       "'Mode of salary: 100000'"
      ],
      "text/markdown": [
       "'Mode of salary: 100000'"
      ],
      "text/plain": [
       "[1] \"Mode of salary: 100000\""
      ]
     },
     "metadata": {},
     "output_type": "display_data"
    }
   ],
   "source": [
    "#----2.Mode Of Salary----\n",
    "\n",
    "getmode <- function(v) {\n",
    "  uniqv <- unique(v)\n",
    "  uniqv[which.max(tabulate(match(v, uniqv)))]\n",
    "}\n",
    "\n",
    "v <- classData$Expected.Salary.after.graduation\n",
    "\n",
    "result <- getmode(v)\n",
    "paste(\"Mode of salary:\",result)"
   ]
  },
  {
   "cell_type": "code",
   "execution_count": 7,
   "metadata": {
    "collapsed": false
   },
   "outputs": [
    {
     "data": {
      "text/html": [
       "'students with coop 68.57 %'"
      ],
      "text/latex": [
       "'students with coop 68.57 \\%'"
      ],
      "text/markdown": [
       "'students with coop 68.57 %'"
      ],
      "text/plain": [
       "[1] \"students with coop 68.57 %\""
      ]
     },
     "metadata": {},
     "output_type": "display_data"
    },
    {
     "data": {
      "text/html": [
       "'students with out coop 28.57 %'"
      ],
      "text/latex": [
       "'students with out coop 28.57 \\%'"
      ],
      "text/markdown": [
       "'students with out coop 28.57 %'"
      ],
      "text/plain": [
       "[1] \"students with out coop 28.57 %\""
      ]
     },
     "metadata": {},
     "output_type": "display_data"
    }
   ],
   "source": [
    "#----3.% of students having Co/op and not having Co/op----\n",
    "\n",
    "total <- length(classData$Coops.Internships..YN.)\n",
    "totalY <- sum(classData$Coops.Internships..YN. == \"Y\")\n",
    "totalN <- sum(classData$Coops.Internships..YN. == \"N\")\n",
    "\n",
    "withcoop_percent <- (totalY/total)*100\n",
    "withoutcoop_percent <- (totalN/total)*100\n",
    "\n",
    "paste(\"students with coop\",round(withcoop_percent,digits = 2),\"%\");paste(\"students with out coop\",round(withoutcoop_percent,digits = 2),\"%\")\n",
    "\n"
   ]
  },
  {
   "cell_type": "code",
   "execution_count": 8,
   "metadata": {
    "collapsed": false
   },
   "outputs": [
    {
     "data": {
      "text/html": [
       "'students with more than 500 linked contacts: 10'"
      ],
      "text/latex": [
       "'students with more than 500 linked contacts: 10'"
      ],
      "text/markdown": [
       "'students with more than 500 linked contacts: 10'"
      ],
      "text/plain": [
       "[1] \"students with more than 500 linked contacts: 10\""
      ]
     },
     "metadata": {},
     "output_type": "display_data"
    }
   ],
   "source": [
    "#----4. Number of students with more than 500 linkedin contacts----\n",
    "\n",
    "studentsLinkedinContact <- length(which(classData$Number.of.contacts.on.Linkedin > 500))\n",
    "paste(\"students with more than 500 linked contacts:\", studentsLinkedinContact)\n",
    "\n"
   ]
  },
  {
   "cell_type": "code",
   "execution_count": 9,
   "metadata": {
    "collapsed": false
   },
   "outputs": [
    {
     "data": {
      "text/html": [
       "10000"
      ],
      "text/latex": [
       "10000"
      ],
      "text/markdown": [
       "10000"
      ],
      "text/plain": [
       "[1] 10000"
      ]
     },
     "metadata": {},
     "output_type": "display_data"
    }
   ],
   "source": [
    "#----5.Inter Quartile Range for the Expected Salalry Range----\n",
    "\n",
    "IQR(classData$Expected.Salary.after.graduation,na.rm = TRUE)\n"
   ]
  },
  {
   "cell_type": "code",
   "execution_count": null,
   "metadata": {
    "collapsed": true
   },
   "outputs": [],
   "source": []
  }
 ],
 "metadata": {
  "anaconda-cloud": {},
  "kernelspec": {
   "display_name": "R",
   "language": "R",
   "name": "ir"
  },
  "language_info": {
   "codemirror_mode": "r",
   "file_extension": ".r",
   "mimetype": "text/x-r-source",
   "name": "R",
   "pygments_lexer": "r",
   "version": "3.3.2"
  }
 },
 "nbformat": 4,
 "nbformat_minor": 1
}
